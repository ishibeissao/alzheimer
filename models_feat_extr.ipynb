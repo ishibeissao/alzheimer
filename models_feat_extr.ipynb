{
 "cells": [
  {
   "cell_type": "code",
   "execution_count": 1,
   "metadata": {},
   "outputs": [],
   "source": [
    "from tensorflow import keras\n",
    "from tensorflow.keras.applications import resnet50\n",
    "from tensorflow.keras.applications import inception_v3\n",
    "from tensorflow.keras.applications import mobilenet\n",
    "from tensorflow.keras.applications import DenseNet121\n",
    "from tensorflow.keras.models import Model\n",
    "from tensorflow.keras.layers import GlobalAveragePooling2D"
   ]
  },
  {
   "cell_type": "code",
   "execution_count": 2,
   "metadata": {},
   "outputs": [],
   "source": [
    "def resnet50_model():\n",
    "    model_input_shape = (224,224)\n",
    "    model = resnet50.ResNet50(include_top=True, weights='imagenet', input_shape=(224, 224, 3), classes=1000)\n",
    "    model = keras.Model(inputs=model.input, outputs=model.get_layer(index=-2).output)\n",
    "    return (model, model_input_shape)"
   ]
  },
  {
   "cell_type": "code",
   "execution_count": 3,
   "metadata": {},
   "outputs": [],
   "source": [
    "def inceptionv3_model():\n",
    "    model_input_shape = (299, 299) \n",
    "    model = inception_v3.InceptionV3(include_top=True, weights='imagenet', input_shape=(299, 299, 3), classes=1000)\n",
    "    model = keras.Model(inputs=model.input, outputs=model.get_layer(index=-2).output)\n",
    "    return (model, model_input_shape)"
   ]
  },
  {
   "cell_type": "code",
   "execution_count": 1,
   "metadata": {},
   "outputs": [],
   "source": [
    "def mobilenet_model():\n",
    "    model_input_shape = (224, 224) \n",
    "    model = mobilenet.MobileNet(include_top=True, weights='imagenet', input_shape=(224, 224, 3), classes=1000)\n",
    "    model = keras.Model(inputs=model.input, outputs=model.get_layer(index=-2).output)\n",
    "    return (model, model_input_shape)"
   ]
  },
  {
   "cell_type": "code",
   "execution_count": 11,
   "metadata": {},
   "outputs": [],
   "source": [
    "def chexnet_model():\n",
    "    #chexnet_weights_path = \"../input/chexnet-keras-weights/brucechou1983_CheXNet_Keras_0.3.0_weights.h5\"\n",
    "    chexnet_weights_path = \"./brucechou1983_CheXNet_Keras_0.3.0_weights.h5\"\n",
    "    IMG_SIZE = 512\n",
    "    model_input_shape = (IMG_SIZE, IMG_SIZE) \n",
    "    base = DenseNet121(weights=None,\n",
    "                            include_top=False,\n",
    "                            input_shape=(IMG_SIZE,IMG_SIZE,3)\n",
    "                           )\n",
    "    ## workaround - add dummy layer then load weights then pop dummy layer, in order to match expected shape for pretrained weights\n",
    "    predictions = keras.layers.Dense(14, activation='sigmoid', name='predictions')(base.output)\n",
    "    ## ,by_name=True - could save on workaround, but don't know if names will necessarily match + how to validate? - https://github.com/keras-team/keras/issues/5397\n",
    "    base = keras.Model(inputs=base.input, outputs=predictions) \n",
    "    base.load_weights(chexnet_weights_path)\n",
    "    base.trainable=False # freeze most layers\n",
    "    base.training=False\n",
    "\n",
    "    base.layers.pop()\n",
    "\n",
    "    ### https://stackoverflow.com/questions/41668813/how-to-add-and-remove-new-layers-in-keras-after-loading-weights\n",
    "    new_model = GlobalAveragePooling2D()(base.layers[-4].output) \n",
    "\n",
    "    model = keras.Model(base.input, new_model)\n",
    "    return (model, model_input_shape)"
   ]
  }
 ],
 "metadata": {
  "interpreter": {
   "hash": "b3ba2566441a7c06988d0923437866b63cedc61552a5af99d1f4fb67d367b25f"
  },
  "kernelspec": {
   "display_name": "Python 3.8.8 64-bit ('base': conda)",
   "language": "python",
   "name": "python3"
  },
  "language_info": {
   "codemirror_mode": {
    "name": "ipython",
    "version": 3
   },
   "file_extension": ".py",
   "mimetype": "text/x-python",
   "name": "python",
   "nbconvert_exporter": "python",
   "pygments_lexer": "ipython3",
   "version": "3.8.8"
  },
  "orig_nbformat": 4
 },
 "nbformat": 4,
 "nbformat_minor": 2
}
