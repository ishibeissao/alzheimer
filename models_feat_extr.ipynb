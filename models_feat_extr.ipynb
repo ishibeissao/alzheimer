{
 "cells": [
  {
   "cell_type": "code",
   "execution_count": 1,
   "metadata": {},
   "outputs": [],
   "source": [
    "from tensorflow import keras\n",
    "from tensorflow.keras.applications import resnet50\n",
    "from tensorflow.keras.applications import inception_v3\n",
    "from tensorflow.keras.applications import mobilenet"
   ]
  },
  {
   "cell_type": "code",
   "execution_count": 2,
   "metadata": {},
   "outputs": [],
   "source": [
    "def resnet50_model():\n",
    "    model_input_shape = (224,224)\n",
    "    model = resnet50.ResNet50(include_top=True, weights='imagenet', input_shape=(224, 224, 3), classes=1000)\n",
    "    model = keras.Model(inputs=model.input, outputs=model.get_layer(index=-2).output)\n",
    "    return (model, model_input_shape)"
   ]
  },
  {
   "cell_type": "code",
   "execution_count": 3,
   "metadata": {},
   "outputs": [],
   "source": [
    "def inceptionv3_model():\n",
    "    model_input_shape = (299, 299) \n",
    "    model = inception_v3.InceptionV3(include_top=True, weights='imagenet', input_shape=(299, 299, 3), classes=1000)\n",
    "    model = keras.Model(inputs=model.input, outputs=model.get_layer(index=-2).output)\n",
    "    return (model, model_input_shape)"
   ]
  },
  {
   "cell_type": "code",
   "execution_count": 1,
   "metadata": {},
   "outputs": [],
   "source": [
    "def mobilenet_model():\n",
    "    model_input_shape = (224, 224) \n",
    "    model = mobilenet.MobileNet(include_top=True, weights='imagenet', input_shape=(224, 224, 3), classes=1000)\n",
    "    model = keras.Model(inputs=model.input, outputs=model.get_layer(index=-2).output)\n",
    "    return (model, model_input_shape)"
   ]
  },
  {
   "cell_type": "code",
   "execution_count": null,
   "metadata": {},
   "outputs": [],
   "source": []
  }
 ],
 "metadata": {
  "interpreter": {
   "hash": "b3ba2566441a7c06988d0923437866b63cedc61552a5af99d1f4fb67d367b25f"
  },
  "kernelspec": {
   "display_name": "Python 3.8.8 64-bit ('base': conda)",
   "language": "python",
   "name": "python3"
  },
  "language_info": {
   "codemirror_mode": {
    "name": "ipython",
    "version": 3
   },
   "file_extension": ".py",
   "mimetype": "text/x-python",
   "name": "python",
   "nbconvert_exporter": "python",
   "pygments_lexer": "ipython3",
   "version": "3.8.8"
  },
  "orig_nbformat": 4
 },
 "nbformat": 4,
 "nbformat_minor": 2
}
