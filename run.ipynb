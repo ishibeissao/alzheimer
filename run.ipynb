{
 "cells": [
  {
   "cell_type": "code",
   "execution_count": 230,
   "metadata": {},
   "outputs": [],
   "source": [
    "\"\"\"\n",
    "Definições e parâmetros globais\n",
    "\"\"\"\n",
    "# Diretório com as imagens de treinamento\n",
    "TRAIN_DIR_PATH = '../Alzheimer_s Dataset/train'\n",
    "# Diretório com as imagens de teste\n",
    "TEST_DIR_PATH = '../Alzheimer_s Dataset/test'\n",
    "# Diretório em que os resultados serão armazenados\n",
    "RESULT_PATH = 'results_feat_extract_RESNET_SVM'\n",
    "# Semente do gerador pseudo-aleatório\n",
    "SEED = 102\n",
    "# Porcentagem do conjunto do dados a ser carregado\n",
    "DATASET_PERCENTAGE = 1\n",
    "# Porcentagem dos dados de treinamento destinado à validação\n",
    "VALIDATION_PERCENTAGE = 0\n",
    "# Classes do problema, sendo que a ordem mostra a sua progressão\n",
    "CLASSES = ['NonDemented','VeryMildDemented','MildDemented','ModerateDemented']\n",
    "# Exibição de informações sobre cada etapa \n",
    "VERBOSE = {\n",
    "    'ANALYSIS': False,\n",
    "    'LOADING': False,\n",
    "    'SPLITTING': False,\n",
    "    'EXECUTION': False,\n",
    "    'EVALUATION': False\n",
    "}"
   ]
  },
  {
   "cell_type": "code",
   "execution_count": 231,
   "metadata": {},
   "outputs": [],
   "source": [
    "# Carregamento dos arquivos\n",
    "%run models.ipynb\n",
    "%run alzheimer.ipynb\n",
    "%run alzheimer_feat_extr.ipynb\n",
    "%run models_feat_extr.ipynb\n",
    "%run classifiers_feat_extr.ipynb\n",
    "%run training_param.ipynb"
   ]
  },
  {
   "cell_type": "code",
   "execution_count": 232,
   "metadata": {},
   "outputs": [],
   "source": [
    "stacked_models_0 = [\n",
    "                    classweight,\n",
    "                    classweight_1_conv2d_layers,\n",
    "                    classweight_3_conv2d_layers,\n",
    "                    classweight_4_conv2d_layers,\n",
    "                    classweight_5_conv2d_layers,\n",
    "                    classweight_6_conv2d_layers,\n",
    "                    classweight_7_conv2d_layers,\n",
    "                ]\n",
    "stacked_models_1 = [  \n",
    "                    classweight_last_conv2d,\n",
    "                    classweight_last_conv2d_1_conv2d_layer,\n",
    "                    classweight_last_conv2d_3_conv2d_layers,\n",
    "                    classweight_last_conv2d_4_conv2d_layers,\n",
    "                    classweight_last_conv2d_5_conv2d_layers,\n",
    "                    classweight_last_conv2d_6_conv2d_layers,\n",
    "                    classweight_last_conv2d_7_conv2d_layers,\n",
    "                ]\n",
    "\n",
    "stacked_models_2 = [\n",
    "                    classweight_no_pooling_1_conv2d_layer,\n",
    "                    classweight_no_pooling_2_conv2d_layers,\n",
    "                    classweight_no_pooling_3_conv2d_layers\n",
    "                ]"
   ]
  },
  {
   "cell_type": "code",
   "execution_count": 233,
   "metadata": {},
   "outputs": [],
   "source": [
    "check_models_0 = [\n",
    "                    classweight_1_conv2d_layers,\n",
    "                    classweight_4_conv2d_layers,\n",
    "                    classweight_1_conv2d_layers_dropout_0_1,\n",
    "                    classweight_1_conv2d_layers_dropout_0_25,\n",
    "                    classweight_1_conv2d_layers_dropout_0_5,\n",
    "                    classweight,\n",
    "                    classweight_3_conv2d_layers,\n",
    "                    classweight_5_conv2d_layers,\n",
    "                    classweight_6_conv2d_layers,\n",
    "                    classweight_7_conv2d_layers,\n",
    "                ]"
   ]
  },
  {
   "cell_type": "code",
   "execution_count": 234,
   "metadata": {},
   "outputs": [],
   "source": [
    "check_models_1 = [\n",
    "                    classweight_dropout_0_1,\n",
    "                    classweight_dropout_0_25,\n",
    "                    classweight_dropout_0_5\n",
    "                ]\n",
    "check_models_2 = [\n",
    "                classweight_7_conv2d_layers_dropout_0_1,\n",
    "                classweight_7_conv2d_layers_dropout_0_25,\n",
    "                classweight_7_conv2d_layers_dropout_0_5,\n",
    "                classweight_4_conv2d_layers_dropout_0_1,\n",
    "                classweight_4_conv2d_layers_dropout_0_25,\n",
    "                classweight_4_conv2d_layers_dropout_0_5\n",
    "                ]"
   ]
  },
  {
   "cell_type": "code",
   "execution_count": 235,
   "metadata": {},
   "outputs": [],
   "source": [
    "#train_and_evaluate(stacked_models_0,Adam_epoch_100_alpha_0_001)"
   ]
  },
  {
   "cell_type": "code",
   "execution_count": 236,
   "metadata": {},
   "outputs": [],
   "source": [
    "#extract_and_evaluate(resnet50_model,classify_SVM)"
   ]
  },
  {
   "cell_type": "code",
   "execution_count": 237,
   "metadata": {},
   "outputs": [],
   "source": [
    "#train_and_evaluate_reshuffled_dataset(stacked_models_0,Adam_epoch_100_alpha_0_001)"
   ]
  },
  {
   "cell_type": "code",
   "execution_count": 238,
   "metadata": {},
   "outputs": [],
   "source": [
    "#extract_and_evaluate(chexnet_model,classify_SVM)"
   ]
  },
  {
   "cell_type": "code",
   "execution_count": 239,
   "metadata": {},
   "outputs": [],
   "source": [
    "#extract_and_evaluate(chexnet_model,classify_RandomForest)"
   ]
  },
  {
   "cell_type": "code",
   "execution_count": 240,
   "metadata": {},
   "outputs": [],
   "source": [
    "RESULT_PATH = 'results_feat_extract_RESNET_RandForest'\n",
    "extract_and_evaluate2(resnet50_model,RandomForest_classifier)"
   ]
  },
  {
   "cell_type": "code",
   "execution_count": null,
   "metadata": {},
   "outputs": [],
   "source": [
    "RESULT_PATH = 'results_feat_extract_RESNET_RandForest'\n",
    "extract_and_evaluate2(inceptionv3_model,RandomForest_classifier)"
   ]
  }
 ],
 "metadata": {
  "interpreter": {
   "hash": "b3ba2566441a7c06988d0923437866b63cedc61552a5af99d1f4fb67d367b25f"
  },
  "kernelspec": {
   "display_name": "Python 3.8.8 64-bit ('base': conda)",
   "name": "python3"
  },
  "language_info": {
   "codemirror_mode": {
    "name": "ipython",
    "version": 3
   },
   "file_extension": ".py",
   "mimetype": "text/x-python",
   "name": "python",
   "nbconvert_exporter": "python",
   "pygments_lexer": "ipython3",
   "version": "3.8.8"
  },
  "orig_nbformat": 4
 },
 "nbformat": 4,
 "nbformat_minor": 2
}
