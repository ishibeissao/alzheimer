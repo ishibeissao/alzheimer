{
 "cells": [
  {
   "cell_type": "code",
   "execution_count": 7,
   "metadata": {},
   "outputs": [],
   "source": [
    "\"\"\"\n",
    "Definições e parâmetros globais\n",
    "\"\"\"\n",
    "# Diretório com as imagens de treinamento\n",
    "TRAIN_DIR_PATH = '../Alzheimer_s Dataset/train'\n",
    "# Diretório com as imagens de teste\n",
    "TEST_DIR_PATH = '../Alzheimer_s Dataset/test'\n",
    "# Diretório em que os resultados serão armazenados\n",
    "RESULT_PATH = 'results_using_test_dataset_dropout'\n",
    "# Semente do gerador pseudo-aleatório\n",
    "SEED = 102\n",
    "# Porcentagem do conjunto do dados a ser carregado\n",
    "DATASET_PERCENTAGE = 1\n",
    "# Porcentagem dos dados de treinamento destinado à validação\n",
    "VALIDATION_PERCENTAGE = 0\n",
    "# Classes do problema, sendo que a ordem mostra a sua progressão\n",
    "CLASSES = ['NonDemented','VeryMildDemented','MildDemented','ModerateDemented']\n",
    "# Exibição de informações sobre cada etapa \n",
    "VERBOSE = {\n",
    "    'ANALYSIS': False,\n",
    "    'LOADING': False,\n",
    "    'SPLITTING': False,\n",
    "    'EXECUTION': False,\n",
    "    'EVALUATION': False\n",
    "}"
   ]
  },
  {
   "cell_type": "code",
   "execution_count": 8,
   "metadata": {},
   "outputs": [],
   "source": [
    "# Carregamento dos arquivos\n",
    "%run models.ipynb\n",
    "%run alzheimer.ipynb\n",
    "%run alzheimer_feat_extr.ipynb\n",
    "%run models_feat_extr.ipynb\n",
    "%run classifiers_feat_extr.ipynb"
   ]
  },
  {
   "cell_type": "code",
   "execution_count": 9,
   "metadata": {},
   "outputs": [],
   "source": [
    "stacked_models_0 = [\n",
    "                    classweight,\n",
    "                    classweight_1_conv2d_layers,\n",
    "                    classweight_3_conv2d_layers,\n",
    "                    classweight_4_conv2d_layers,\n",
    "                    classweight_5_conv2d_layers,\n",
    "                    classweight_6_conv2d_layers,\n",
    "                    classweight_7_conv2d_layers,\n",
    "                ]\n",
    "stacked_models_1 = [  \n",
    "                    classweight_last_conv2d,\n",
    "                    classweight_last_conv2d_1_conv2d_layer,\n",
    "                    classweight_last_conv2d_3_conv2d_layers,\n",
    "                    classweight_last_conv2d_4_conv2d_layers,\n",
    "                    classweight_last_conv2d_5_conv2d_layers,\n",
    "                    classweight_last_conv2d_6_conv2d_layers,\n",
    "                    classweight_last_conv2d_7_conv2d_layers,\n",
    "                ]\n",
    "\n",
    "stacked_models_2 = [\n",
    "                    classweight_no_pooling_1_conv2d_layer,\n",
    "                    classweight_no_pooling_2_conv2d_layers,\n",
    "                    classweight_no_pooling_3_conv2d_layers\n",
    "                ]"
   ]
  },
  {
   "cell_type": "code",
   "execution_count": 10,
   "metadata": {},
   "outputs": [],
   "source": [
    "check_models_0 = [\n",
    "                    classweight_1_conv2d_layers,\n",
    "                    classweight_4_conv2d_layers,\n",
    "                    classweight_1_conv2d_layers_dropout_0_1,\n",
    "                    classweight_1_conv2d_layers_dropout_0_25,\n",
    "                    classweight_1_conv2d_layers_dropout_0_5,\n",
    "                    classweight,\n",
    "                    classweight_3_conv2d_layers,\n",
    "                    classweight_5_conv2d_layers,\n",
    "                    classweight_6_conv2d_layers,\n",
    "                    classweight_7_conv2d_layers,\n",
    "                ]"
   ]
  },
  {
   "cell_type": "code",
   "execution_count": 11,
   "metadata": {},
   "outputs": [],
   "source": [
    "check_models_1 = [\n",
    "                    classweight_dropout_0_1,\n",
    "                    classweight_dropout_0_25,\n",
    "                    classweight_dropout_0_5\n",
    "                ]"
   ]
  },
  {
   "cell_type": "code",
   "execution_count": 12,
   "metadata": {},
   "outputs": [
    {
     "name": "stdout",
     "output_type": "stream",
     "text": [
      "Training: classweight_dropout_0_1\n",
      "INFO:tensorflow:Assets written to: results_using_test_dataset_dropout\\classweight_dropout_0_1\\model\\assets\n",
      "done\n",
      "\n",
      "Training: classweight_dropout_0_25\n",
      "INFO:tensorflow:Assets written to: results_using_test_dataset_dropout\\classweight_dropout_0_25\\model\\assets\n",
      "done\n",
      "\n",
      "Training: classweight_dropout_0_5\n",
      "INFO:tensorflow:Assets written to: results_using_test_dataset_dropout\\classweight_dropout_0_5\\model\\assets\n",
      "done\n",
      "\n"
     ]
    }
   ],
   "source": [
    "train_and_evaluate(check_models_1)"
   ]
  },
  {
   "cell_type": "code",
   "execution_count": 13,
   "metadata": {},
   "outputs": [],
   "source": [
    "#extract_and_evaluate(resnet50_model,classify_SVM)"
   ]
  },
  {
   "cell_type": "code",
   "execution_count": 14,
   "metadata": {},
   "outputs": [],
   "source": [
    "import winsound\n",
    "duration = 1000  # milliseconds\n",
    "freq = 440  # Hz\n",
    "winsound.Beep(freq, duration)"
   ]
  },
  {
   "cell_type": "code",
   "execution_count": null,
   "metadata": {},
   "outputs": [],
   "source": []
  }
 ],
 "metadata": {
  "interpreter": {
   "hash": "b3ba2566441a7c06988d0923437866b63cedc61552a5af99d1f4fb67d367b25f"
  },
  "kernelspec": {
   "display_name": "Python 3.8.8 64-bit ('base': conda)",
   "name": "python3"
  },
  "language_info": {
   "codemirror_mode": {
    "name": "ipython",
    "version": 3
   },
   "file_extension": ".py",
   "mimetype": "text/x-python",
   "name": "python",
   "nbconvert_exporter": "python",
   "pygments_lexer": "ipython3",
   "version": "3.8.8"
  },
  "orig_nbformat": 4
 },
 "nbformat": 4,
 "nbformat_minor": 2
}
