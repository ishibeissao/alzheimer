{
 "cells": [
  {
   "cell_type": "code",
   "execution_count": 13,
   "metadata": {},
   "outputs": [],
   "source": [
    "from tensorflow import keras"
   ]
  },
  {
   "cell_type": "code",
   "execution_count": null,
   "metadata": {},
   "outputs": [],
   "source": [
    "def Adam_epoch_100_alpha_0_001():\n",
    "    optimizer = keras.optimizers.Adam(learning_rate=0.001)\n",
    "    batch_size = 128\n",
    "    epochs = 100\n",
    "    return (optimizer,batch_size,epochs)"
   ]
  },
  {
   "cell_type": "code",
   "execution_count": 6,
   "metadata": {},
   "outputs": [],
   "source": [
    "def Adam_epoch_50_alpha_0_001():\n",
    "    optimizer = keras.optimizers.Adam(learning_rate=0.001)\n",
    "    batch_size = 128\n",
    "    epochs = 50\n",
    "    return (optimizer,batch_size,epochs)"
   ]
  },
  {
   "cell_type": "code",
   "execution_count": 7,
   "metadata": {},
   "outputs": [],
   "source": [
    "def Adam_epoch_50_alpha_0_01():\n",
    "    optimizer = keras.optimizers.Adam(learning_rate=0.01)\n",
    "    batch_size = 128\n",
    "    epochs = 50\n",
    "    return (optimizer,batch_size,epochs)"
   ]
  },
  {
   "cell_type": "code",
   "execution_count": null,
   "metadata": {},
   "outputs": [],
   "source": [
    "def Adam_epoch_50_alpha_0_05():\n",
    "    optimizer = keras.optimizers.Adam(learning_rate=0.05)\n",
    "    batch_size = 128\n",
    "    epochs = 50\n",
    "    return (optimizer,batch_size,epochs)"
   ]
  },
  {
   "cell_type": "code",
   "execution_count": 9,
   "metadata": {},
   "outputs": [],
   "source": [
    "def SGD_Nesterov_epoch_50_alpha_0_001_mom_0_09():\n",
    "    optimizer = keras.optimizers.SGD(learning_rate=0.001, momentum=0.09,nesterov = True)\n",
    "    batch_size = 128\n",
    "    epochs = 50\n",
    "    return (optimizer,batch_size,epochs)    "
   ]
  },
  {
   "cell_type": "code",
   "execution_count": 10,
   "metadata": {},
   "outputs": [],
   "source": [
    "def SGD_Nesterov_epoch_50_alpha_0_001_mom_0_9():\n",
    "    optimizer = keras.optimizers.SGD(learning_rate=0.001, momentum=0.9,nesterov = True)\n",
    "    batch_size = 128\n",
    "    epochs = 50\n",
    "    return (optimizer,batch_size,epochs)"
   ]
  },
  {
   "cell_type": "code",
   "execution_count": null,
   "metadata": {},
   "outputs": [],
   "source": [
    "def SGD_Nesterov_epoch_50_alpha_0_01_mom_0_9():\n",
    "    optimizer = keras.optimizers.SGD(learning_rate=0.01, momentum=0.9,nesterov = True)\n",
    "    batch_size = 128\n",
    "    epochs = 50\n",
    "    return (optimizer,batch_size,epochs)"
   ]
  },
  {
   "cell_type": "code",
   "execution_count": 11,
   "metadata": {},
   "outputs": [],
   "source": [
    "def SGD_Nesterov_epoch_100_alpha_0_001_mom_0_09():\n",
    "    optimizer = keras.optimizers.SGD(learning_rate=0.001, momentum=0.09,nesterov = True)\n",
    "    batch_size = 128\n",
    "    epochs = 100\n",
    "    return (optimizer,batch_size,epochs)"
   ]
  },
  {
   "cell_type": "code",
   "execution_count": 12,
   "metadata": {},
   "outputs": [],
   "source": [
    "def SGD_Nesterov_epoch_100_alpha_0_001_mom_0_9():\n",
    "    optimizer = keras.optimizers.SGD(learning_rate=0.001, momentum=0.9,nesterov = True)\n",
    "    batch_size = 128\n",
    "    epochs = 100\n",
    "    return (optimizer,batch_size,epochs)"
   ]
  },
  {
   "cell_type": "code",
   "execution_count": 14,
   "metadata": {},
   "outputs": [],
   "source": [
    "def SGD_Nesterov_epoch_100_alpha_0_01_mom_0_9():\n",
    "    optimizer = keras.optimizers.SGD(learning_rate=0.01, momentum=0.9,nesterov = True)\n",
    "    batch_size = 128\n",
    "    epochs = 100\n",
    "    return (optimizer,batch_size,epochs)"
   ]
  },
  {
   "cell_type": "code",
   "execution_count": 15,
   "metadata": {},
   "outputs": [],
   "source": [
    "def SGD_Nesterov_epoch_200_alpha_0_001_mom_0_9():\n",
    "    optimizer = keras.optimizers.SGD(learning_rate=0.001, momentum=0.9,nesterov = True)\n",
    "    batch_size = 128\n",
    "    epochs = 200\n",
    "    return (optimizer,batch_size,epochs)"
   ]
  },
  {
   "cell_type": "code",
   "execution_count": 16,
   "metadata": {},
   "outputs": [],
   "source": [
    "def SGD_Nesterov_epoch_200_alpha_0_001_mom_0_09():\n",
    "    optimizer = keras.optimizers.SGD(learning_rate=0.001, momentum=0.09,nesterov = True)\n",
    "    batch_size = 128\n",
    "    epochs = 200\n",
    "    return (optimizer,batch_size,epochs)"
   ]
  },
  {
   "cell_type": "code",
   "execution_count": 17,
   "metadata": {},
   "outputs": [],
   "source": [
    "def SGD_Nesterov_epoch_200_alpha_0_01_mom_0_9():\n",
    "    optimizer = keras.optimizers.SGD(learning_rate=0.01, momentum=0.9,nesterov = True)\n",
    "    batch_size = 128\n",
    "    epochs = 200\n",
    "    return (optimizer,batch_size,epochs)"
   ]
  }
 ],
 "metadata": {
  "interpreter": {
   "hash": "b3ba2566441a7c06988d0923437866b63cedc61552a5af99d1f4fb67d367b25f"
  },
  "kernelspec": {
   "display_name": "Python 3.8.8 64-bit ('base': conda)",
   "language": "python",
   "name": "python3"
  },
  "language_info": {
   "codemirror_mode": {
    "name": "ipython",
    "version": 3
   },
   "file_extension": ".py",
   "mimetype": "text/x-python",
   "name": "python",
   "nbconvert_exporter": "python",
   "pygments_lexer": "ipython3",
   "version": "3.8.8"
  },
  "orig_nbformat": 4
 },
 "nbformat": 4,
 "nbformat_minor": 2
}
